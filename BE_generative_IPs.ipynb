{
  "cells": [
    {
      "cell_type": "markdown",
      "metadata": {
        "id": "view-in-github",
        "colab_type": "text"
      },
      "source": [
        "<a href=\"https://colab.research.google.com/github/valthoraval/deep-learning/blob/main/BE_generative_IPs.ipynb\" target=\"_parent\"><img src=\"https://colab.research.google.com/assets/colab-badge.svg\" alt=\"Open In Colab\"/></a>"
      ]
    },
    {
      "cell_type": "markdown",
      "metadata": {
        "id": "Q1MVVPOfs1tW"
      },
      "source": [
        "# BE: VAE on MNIST for image restoration (BE noté)\n",
        "\n",
        "### Context\n",
        "We consider here the problem of image restoration, such as denoising, deblurring, inpainting or super-resolution. We can model such a problem by $y = A x + n,$ where $y$ is the (corrupted) image, $x$ denotes the clean image and $n$ represents some measurement noise. Operator $A$ is often known with a high precision, it can be for instance \n",
        "- a mask (inpainting)\n",
        "- a convolution with the sensor PSF (deblurring)\n",
        "- the identity (denoising)\n",
        "- a blur followed by spatial subsampling (super-resolution)\n",
        "- etc\n",
        "\n",
        "Assuming zero-mean Gaussian noise, we estimate the clean image by the following optimization procedure :\n",
        "\\begin{equation}\n",
        "\\hat x = \\arg \\min_x \\frac{1}{2} \\| y - Ax \\|_2^2 + \\varphi(x)\n",
        "\\end{equation}\n",
        "We indeed seek to minimize a least-square data-fitting term, complemented by a regularization that should promote some particular behavior of the solution. If we assume that $p(x)= e^{-\\varphi(x)}$, then we recover the Bayesian maximum a posteriori (MAP) estimator of $x$. \n",
        "\n",
        "In practice, it is difficult to find good priors $\\varphi$ for images, since these are complex and high-dimensional data. Generative (deep) neural networks offer a nice and effective way, as remarked in (Bora et al) in 2017. The idea is to pre-train an encoder-decoder on a representative dataset, so that it maps an image x to a latent vector z which is often assumed to be Gaussian. Then, the estimation problem can be done in the latent space:\n",
        "\\begin{equation}\n",
        "\\hat z = \\arg \\min_z \\frac{1}{2} \\| y - A D(z) \\|_2^2 + \\lambda \\|z\\|_2^2.\n",
        "\\end{equation}\n",
        "\n",
        "\n",
        "\n",
        "### Outline\n",
        "In this lab, you will successively:\n",
        "1. Learn a (simple) generative model\n",
        "2. Apply it to image denoising\n",
        "3. Apply it to an inverse problem using the approach in (Bora et al, ICML 2017)\n",
        "4. If you have enough time, test the approach on a more complex dataset such as fashion MNIST, celebA, etc\n",
        "\n",
        "Steps 1 to 3 can be done on a laptop with a CPU. For step 4, depending on the complexity of the chosen model, you might need to use Google Colab. You can of course use Colab and a GPU for all the steps.\n",
        "\n",
        "### Instructions\n",
        "- Groups of 1 or 2 students\n",
        "- Upload your final notebook (with all outputs) on LMS. If needed, you can split in several notebooks and/or python codes, in particular for part 4. In that case, please put some Figures in the main notebook, and upload a zip file containing all the code (notebook + scripts)\n",
        "- Deadline : Sunday 27th\n",
        "\n",
        "### Useful references and sources\n",
        "- Kingma and Welling, <a href=\"https://arxiv.org/abs/1312.6114\">Auto-Encoding Variational Bayes</a>, ICLR 2014\n",
        "- Bora et al., <a href=\"https://arxiv.org/pdf/1703.03208.pdf\">Compressed Sensing using Generative Models</a>, ICML 2017\n",
        "- Asim et al., <a href=\"http://proceedings.mlr.press/v119/asim20a/asim20a.pdf\"> Invertible generative models for inverse problems: mitigating representation error and dataset bias, ICML 2020"
      ]
    },
    {
      "cell_type": "code",
      "execution_count": 1,
      "metadata": {
        "id": "RQ2WV-fIs1tc"
      },
      "outputs": [],
      "source": [
        "import torch\n",
        "from torch import nn, optim\n",
        "from torch.utils.data import DataLoader\n",
        "from torchvision import transforms\n",
        "from torchvision.datasets import MNIST\n",
        "import numpy as np\n",
        "import matplotlib.pyplot as plt"
      ]
    },
    {
      "cell_type": "code",
      "execution_count": 2,
      "metadata": {
        "id": "zjo2atDfs1tf"
      },
      "outputs": [],
      "source": [
        "cuda = torch.cuda.is_available()\n",
        "device = torch.device(\"cuda\" if cuda else \"cpu\")"
      ]
    },
    {
      "cell_type": "markdown",
      "metadata": {
        "id": "3eOK3jq4s1th"
      },
      "source": [
        "## 1. Training a VAE on MNIST\n",
        "\n",
        "### Get data"
      ]
    },
    {
      "cell_type": "code",
      "source": [
        "# If download from ISAE network\n",
        "# !wget https://nextcloud.isae.fr/index.php/s/adETBHafqcMgRn4/download --output-file MNIST.zip\n",
        "\n",
        "# If download from Google Colab, better to use Google drive\n",
        "!wget --load-cookies /tmp/cookies.txt \"https://docs.google.com/uc?export=download&confirm=$(wget --quiet --save-cookies /tmp/cookies.txt --keep-session-cookies --no-check-certificate 'https://docs.google.com/uc?export=download&id=1FMDIaBWewnEklOPqoH7tAyogETqni8iq' -O- | sed -rn 's/.*confirm=([0-9A-Za-z_]+).*/\\1\\n/p')&id=1FMDIaBWewnEklOPqoH7tAyogETqni8iq\" -O MNIST.zip && rm -rf /tmp/cookies.txt"
      ],
      "metadata": {
        "id": "1QTY7fMcuEP2",
        "colab": {
          "base_uri": "https://localhost:8080/"
        },
        "outputId": "4a47dbe4-df8b-47b9-a8fc-41a754a51b3f"
      },
      "execution_count": 3,
      "outputs": [
        {
          "output_type": "stream",
          "name": "stdout",
          "text": [
            "--2023-03-21 12:49:12--  https://docs.google.com/uc?export=download&confirm=t&id=1FMDIaBWewnEklOPqoH7tAyogETqni8iq\n",
            "Resolving docs.google.com (docs.google.com)... 74.125.195.113, 74.125.195.138, 74.125.195.101, ...\n",
            "Connecting to docs.google.com (docs.google.com)|74.125.195.113|:443... connected.\n",
            "HTTP request sent, awaiting response... 303 See Other\n",
            "Location: https://doc-00-6g-docs.googleusercontent.com/docs/securesc/ha0ro937gcuc7l7deffksulhg5h7mbp1/6v0i8qd74g9ns3vqdnbtg8j7i27uckrv/1679402925000/13684678006425267443/*/1FMDIaBWewnEklOPqoH7tAyogETqni8iq?e=download&uuid=cb80acf1-23de-414d-ad81-85d89f4b52ec [following]\n",
            "Warning: wildcards not supported in HTTP.\n",
            "--2023-03-21 12:49:12--  https://doc-00-6g-docs.googleusercontent.com/docs/securesc/ha0ro937gcuc7l7deffksulhg5h7mbp1/6v0i8qd74g9ns3vqdnbtg8j7i27uckrv/1679402925000/13684678006425267443/*/1FMDIaBWewnEklOPqoH7tAyogETqni8iq?e=download&uuid=cb80acf1-23de-414d-ad81-85d89f4b52ec\n",
            "Resolving doc-00-6g-docs.googleusercontent.com (doc-00-6g-docs.googleusercontent.com)... 173.194.202.132, 2607:f8b0:400e:c00::84\n",
            "Connecting to doc-00-6g-docs.googleusercontent.com (doc-00-6g-docs.googleusercontent.com)|173.194.202.132|:443... connected.\n",
            "HTTP request sent, awaiting response... 200 OK\n",
            "Length: 121987580 (116M) [application/zip]\n",
            "Saving to: ‘MNIST.zip’\n",
            "\n",
            "MNIST.zip           100%[===================>] 116.34M  57.1MB/s    in 2.0s    \n",
            "\n",
            "2023-03-21 12:49:14 (57.1 MB/s) - ‘MNIST.zip’ saved [121987580/121987580]\n",
            "\n"
          ]
        }
      ]
    },
    {
      "cell_type": "markdown",
      "source": [
        "Unzip the file"
      ],
      "metadata": {
        "id": "pQBu0ReI1W6J"
      }
    },
    {
      "cell_type": "code",
      "source": [
        "!unzip MNIST.zip"
      ],
      "metadata": {
        "id": "hiNGcf1Xz6dm",
        "colab": {
          "base_uri": "https://localhost:8080/"
        },
        "outputId": "f7272ef7-83e4-494c-a3f8-d2c2b0719000"
      },
      "execution_count": 4,
      "outputs": [
        {
          "output_type": "stream",
          "name": "stdout",
          "text": [
            "Archive:  MNIST.zip\n",
            "   creating: MNIST/\n",
            "   creating: MNIST/processed/\n",
            " extracting: MNIST/processed/test.pt  \n",
            " extracting: MNIST/processed/training.pt  \n",
            "   creating: MNIST/raw/\n",
            " extracting: MNIST/raw/t10k-images-idx3-ubyte  \n",
            " extracting: MNIST/raw/t10k-images-idx3-ubyte.gz  \n",
            " extracting: MNIST/raw/t10k-labels-idx1-ubyte  \n",
            " extracting: MNIST/raw/t10k-labels-idx1-ubyte.gz  \n",
            " extracting: MNIST/raw/train-images-idx3-ubyte  \n",
            " extracting: MNIST/raw/train-images-idx3-ubyte.gz  \n",
            " extracting: MNIST/raw/train-labels-idx1-ubyte  \n",
            " extracting: MNIST/raw/train-labels-idx1-ubyte.gz  \n"
          ]
        }
      ]
    },
    {
      "cell_type": "markdown",
      "source": [
        "### Define datasets and data loader"
      ],
      "metadata": {
        "id": "mtKhVzSx1ndd"
      }
    },
    {
      "cell_type": "code",
      "execution_count": 5,
      "metadata": {
        "id": "_dPuQncbs1tj"
      },
      "outputs": [],
      "source": [
        "batch_size = 128\n",
        "train_loader = DataLoader(MNIST('./', train=True, download=False, transform=transforms.ToTensor()), batch_size=batch_size, shuffle=True)\n",
        "test_loader = DataLoader(MNIST('./', train=False, transform=transforms.ToTensor()), batch_size=batch_size, shuffle=True)"
      ]
    },
    {
      "cell_type": "markdown",
      "metadata": {
        "id": "bPTDP_mys1tl"
      },
      "source": [
        "### Define Model\n",
        "We use here a simple variational Auto-encoder (VAE). Since we will work on the simple MNIST dataset we will use a shwallow architecture with FC layers. On more complex image we would need a deeper and convolutional model.\n",
        "While the architecture is quite straightforward, pay attention to the loss function and the reparametrization"
      ]
    },
    {
      "cell_type": "code",
      "execution_count": 6,
      "metadata": {
        "id": "5e0y43tks1tl"
      },
      "outputs": [],
      "source": [
        "class VAE(nn.Module):\n",
        "    def __init__(self):\n",
        "        super(VAE, self).__init__()\n",
        "\n",
        "        self.encoder = nn.Sequential(\n",
        "            nn.Linear(784, 500),\n",
        "            nn.Softplus(beta=1, threshold=20),\n",
        "            nn.Linear(500, 500),\n",
        "            nn.Softplus(beta=1, threshold=20)\n",
        "        )\n",
        "        \n",
        "        self.mu = nn.Linear(500, 20)\n",
        "        self.logvar = nn.Linear(500, 20)\n",
        "        \n",
        "        self.decoder = nn.Sequential(\n",
        "            nn.Linear(20, 500),\n",
        "            nn.Softplus(beta=1, threshold=20),\n",
        "            nn.Linear(500, 500),\n",
        "            nn.Softplus(beta=1, threshold=20),\n",
        "            nn.Linear(500,784),\n",
        "            nn.Sigmoid()\n",
        "        )\n",
        "\n",
        "    def encode(self, x):\n",
        "        y = self.encoder(x)\n",
        "        return self.mu(y), self.logvar(y)\n",
        "\n",
        "    def decode(self, z):\n",
        "        return self.decoder(z)\n",
        "\n",
        "    def reparameterize(self, mu, logvar):\n",
        "        std = torch.exp(0.5 * logvar)\n",
        "        eps = torch.randn_like(std)\n",
        "        return mu + eps * std\n",
        "\n",
        "    def forward(self, x):\n",
        "        mu, logvar = self.encode(x)\n",
        "        z = self.reparameterize(mu, logvar)\n",
        "        return self.decode(z), mu, logvar"
      ]
    },
    {
      "cell_type": "markdown",
      "metadata": {
        "id": "DI6R4Fv2s1to"
      },
      "source": [
        "### Loss and optimizer\n",
        "Remember what a VAE is. Ideally, we would like to maximize the posterior distribution. We use a lower bound instead, called the ELBO. "
      ]
    },
    {
      "cell_type": "code",
      "execution_count": 7,
      "metadata": {
        "id": "EWEnsX_Ms1tp"
      },
      "outputs": [],
      "source": [
        "lr = 0.001 # learning rate\n",
        "model = VAE().to(device)\n",
        "optimizer = optim.Adam(model.parameters(), lr=lr)\n",
        "def loss_function(decoded_x, x, mu, logvar):\n",
        "    \n",
        "    RE = torch.nn.BCELoss(reduction='sum')(decoded_x, x)\n",
        "    KLD = - 0.5 * torch.sum(1 + logvar - mu.pow(2) - logvar.exp())\n",
        "    return RE + KLD"
      ]
    },
    {
      "cell_type": "code",
      "execution_count": 8,
      "metadata": {
        "id": "owRvujKws1tq"
      },
      "outputs": [],
      "source": [
        "epochs = 16"
      ]
    },
    {
      "cell_type": "markdown",
      "metadata": {
        "id": "VcZjW5J5s1tr"
      },
      "source": [
        "### Training\n",
        "This ok with a standard CPU (takes a few minutes at most)"
      ]
    },
    {
      "cell_type": "code",
      "execution_count": 9,
      "metadata": {
        "id": "Wykj__r3s1tr",
        "colab": {
          "base_uri": "https://localhost:8080/"
        },
        "outputId": "87c12c83-1f7c-41bf-ee33-8b2b30d7e784"
      },
      "outputs": [
        {
          "output_type": "stream",
          "name": "stdout",
          "text": [
            "Epoch: 0 - Train loss: 180.8687208170573\n",
            "Epoch: 1 - Train loss: 133.26180180664062\n",
            "Epoch: 2 - Train loss: 122.76118706054687\n",
            "Epoch: 3 - Train loss: 116.28124116210938\n",
            "Epoch: 4 - Train loss: 112.08057926432292\n",
            "Epoch: 5 - Train loss: 109.43837952473959\n",
            "Epoch: 6 - Train loss: 107.64182005208333\n",
            "Epoch: 7 - Train loss: 106.42456507161458\n",
            "Epoch: 8 - Train loss: 105.49409202473959\n",
            "Epoch: 9 - Train loss: 104.67802858072916\n",
            "Epoch: 10 - Train loss: 104.13306333007813\n",
            "Epoch: 11 - Train loss: 103.616147265625\n",
            "Epoch: 12 - Train loss: 103.08146761067708\n",
            "Epoch: 13 - Train loss: 102.68659173177083\n",
            "Epoch: 14 - Train loss: 102.32368696289062\n",
            "Epoch: 15 - Train loss: 101.98419905598958\n"
          ]
        }
      ],
      "source": [
        "train_losses = []\n",
        "\n",
        "for epoch in range(epochs):\n",
        "    model.train()\n",
        "    train_loss = 0\n",
        "    for i, (X_batch, _) in enumerate(train_loader):\n",
        "        X_batch = X_batch.to(device).view(X_batch.size(0), 784)\n",
        "        \n",
        "        # forward\n",
        "        X_pred, mu, logvar = model(X_batch)\n",
        "        loss = loss_function(X_pred, X_batch, mu, logvar)\n",
        "        \n",
        "        # backward\n",
        "        optimizer.zero_grad()\n",
        "        loss.backward()\n",
        "        train_loss += loss.item()\n",
        "        optimizer.step()\n",
        "        \n",
        "    train_losses.append(train_loss / len(train_loader.dataset))\n",
        "            \n",
        "    print('Epoch: {} - Train loss: {}'.format(epoch, train_losses[-1]))"
      ]
    },
    {
      "cell_type": "code",
      "execution_count": 10,
      "metadata": {
        "id": "dktv-uzZs1ts",
        "colab": {
          "base_uri": "https://localhost:8080/",
          "height": 374
        },
        "outputId": "233cc3c7-0073-4b07-fa2c-ee776295cce0"
      },
      "outputs": [
        {
          "output_type": "display_data",
          "data": {
            "text/plain": [
              "<Figure size 576x432 with 1 Axes>"
            ],
            "image/png": "[encoded data removed]"
          },
          "metadata": {
            "needs_background": "light"
          }
        }
      ],
      "source": [
        "plt.figure(figsize=(8, 6))\n",
        "plt.plot(train_losses, label='Train')\n",
        "plt.legend();"
      ]
    },
    {
      "cell_type": "markdown",
      "metadata": {
        "id": "kuOEavVFs1tt"
      },
      "source": [
        "### Save or load the model"
      ]
    },
    {
      "cell_type": "code",
      "execution_count": 11,
      "metadata": {
        "id": "nuWgPT6js1tu"
      },
      "outputs": [],
      "source": [
        "# Save the trained model\n",
        "torch.save(model.state_dict(), 'vae_mnist.pth')\n",
        "\n",
        "# Load a pre-trained model\n",
        "# model.load_state_dict(torch.load(vae_mnist.pth'), map_location=device))"
      ]
    },
    {
      "cell_type": "markdown",
      "metadata": {
        "id": "TH-E_jmIs1tv"
      },
      "source": [
        "### Evaluation"
      ]
    },
    {
      "cell_type": "code",
      "execution_count": 12,
      "metadata": {
        "id": "X0163AA_s1tw",
        "colab": {
          "base_uri": "https://localhost:8080/"
        },
        "outputId": "2080c4bb-e37d-4155-de44-bc448ef2fc54"
      },
      "outputs": [
        {
          "output_type": "stream",
          "name": "stdout",
          "text": [
            "Test loss: 102.09879692382812\n"
          ]
        }
      ],
      "source": [
        "model.eval()\n",
        "test_loss = 0\n",
        "with torch.no_grad():\n",
        "    for i, (X_batch, _) in enumerate(test_loader):\n",
        "        # resize images\n",
        "        X_batch = X_batch.to(device).view(X_batch.size(0), 784)\n",
        "        # forward\n",
        "        X_pred, mu, logvar = model(X_batch)\n",
        "        test_loss += loss_function(X_pred, X_batch, mu, logvar).item()\n",
        "        \n",
        "        # Get first n images from the test set and their approximation via the VAE for display\n",
        "        if i == 0:\n",
        "            n = min(X_batch.size(0), 8)\n",
        "            comparison = torch.cat([X_batch.view(X_batch.size(0), 28, 28)[:n], X_pred.view(X_batch.size(0), 28, 28)[:n]])\n",
        "            img = comparison.cpu().numpy()\n",
        "\n",
        "print('Test loss: {}'.format(test_loss / len(test_loader.dataset)))"
      ]
    },
    {
      "cell_type": "markdown",
      "metadata": {
        "id": "NCqxETz9s1tw"
      },
      "source": [
        "### Display MNIST images"
      ]
    },
    {
      "cell_type": "code",
      "execution_count": 13,
      "metadata": {
        "id": "VFTyhuGVs1tx",
        "colab": {
          "base_uri": "https://localhost:8080/",
          "height": 248
        },
        "outputId": "bdf90288-6927-4c6b-f207-f6bcffaad5e4"
      },
      "outputs": [
        {
          "output_type": "display_data",
          "data": {
            "text/plain": [
              "<Figure size 1152x288 with 16 Axes>"
            ],
            "image/png": "[encoded data removed]"
          },
          "metadata": {
            "needs_background": "light"
          }
        }
      ],
      "source": [
        "def plot_img(img,n):\n",
        "    h = img.shape[0] // n\n",
        "    fig, ax = plt.subplots(h, n, figsize=(16, 2*h))\n",
        "    for j in range(h):\n",
        "        for i in range(n):\n",
        "            ax[j,i].imshow((img[j*n+i]*255.).clip(0,255).astype('uint8'), cmap='gray')\n",
        "            ax[j,i].axis('off')\n",
        "    plt.subplots_adjust(hspace=0.0, wspace=0.0)\n",
        "\n",
        "# Display the images from the test set.\n",
        "# Top: true image. Bottom: reconstructed (D(E(x))\n",
        "plot_img(img,n)"
      ]
    },
    {
      "cell_type": "markdown",
      "metadata": {
        "id": "oqRE0bqSs1tz"
      },
      "source": [
        "### Exploration of the latent space"
      ]
    },
    {
      "cell_type": "code",
      "execution_count": 14,
      "metadata": {
        "id": "gKXeJZyds1tz",
        "colab": {
          "base_uri": "https://localhost:8080/",
          "height": 248
        },
        "outputId": "f757a99a-e618-4c54-8c4b-a29410613991"
      },
      "outputs": [
        {
          "output_type": "display_data",
          "data": {
            "text/plain": [
              "<Figure size 1152x288 with 16 Axes>"
            ],
            "image/png": "[encoded data removed]"
          },
          "metadata": {
            "needs_background": "light"
          }
        }
      ],
      "source": [
        "with torch.no_grad():\n",
        "    z = torch.randn(n*2, 20).to(device)\n",
        "    sample = model.decode(z).view(-1, 28, 28).cpu().numpy()\n",
        "\n",
        "# Examples of images samples from the VAE\n",
        "plot_img(sample,n)"
      ]
    },
    {
      "cell_type": "markdown",
      "metadata": {
        "id": "V780wWbzs1t0"
      },
      "source": [
        "## 2. Application to image denoising\n",
        "We will now test the network for denoising purpose. Let us start by redefining a data loader for the test set. To begin with, you might process only the first batch of 8 images."
      ]
    },
    {
      "cell_type": "code",
      "execution_count": 15,
      "metadata": {
        "id": "biMeSv8is1t0"
      },
      "outputs": [],
      "source": [
        "batch_size = 8\n",
        "latent_dim = 20\n",
        "test_loader = DataLoader(MNIST('./', train=False, transform=transforms.ToTensor()), batch_size=batch_size, shuffle=True)\n",
        "test_iter = test_loader.__iter__()\n",
        "X_batch, _ = next(test_iter)"
      ]
    },
    {
      "cell_type": "markdown",
      "metadata": {
        "id": "mBC11Pdks1t1"
      },
      "source": [
        "We will now investigate a different approach for image denoising: with a gradient descent, we will denoise the images by finding the latent code $z$ which best fits the noisy image, in the least-square sense.\n",
        "\n",
        "In the following cells, we define some parameters and then apply the denoising technique to the images in the first minibatch."
      ]
    },
    {
      "cell_type": "code",
      "execution_count": 56,
      "metadata": {
        "id": "-45yfL-4s1t2",
        "colab": {
          "base_uri": "https://localhost:8080/",
          "height": 300
        },
        "outputId": "ee4361d6-a43e-478b-886b-d1e4c35f6c83"
      },
      "outputs": [
        {
          "output_type": "stream",
          "name": "stdout",
          "text": [
            "psnr pour initialisations zero est :  10.893084509081469\n"
          ]
        },
        {
          "output_type": "execute_result",
          "data": {
            "text/plain": [
              "[<matplotlib.lines.Line2D at 0x7ff9abe94a30>]"
            ]
          },
          "metadata": {},
          "execution_count": 56
        },
        {
          "output_type": "display_data",
          "data": {
            "text/plain": [
              "<Figure size 432x288 with 1 Axes>"
            ],
            "image/png": "[encoded data removed]"
          },
          "metadata": {
            "needs_background": "light"
          }
        }
      ],
      "source": [
        "iter = 200 # Number of iterations of the gradient descent\n",
        "lambda_ = 1e-5 # Lambda parameter for extra regularization\n",
        "lr = 1e2 # learning rate ()\n",
        "sigma = 0.25 # std of the noise we will simulate in the images\n",
        "mse_tot = []\n",
        "psnr_randn = []\n",
        "\n",
        "# Get test data, add noise\n",
        "x = X_batch.to(device).view(batch_size, 28*28)\n",
        "y = x + sigma*torch.randn_like(x)\n",
        "\n",
        "# random init\n",
        "z = torch.randn(batch_size,latent_dim).to(device).requires_grad_()\n",
        "\n",
        "# Gradient descent      \n",
        "for e in range(iter):\n",
        "    x_ = model.decode(z)\n",
        "    mse = torch.mean((x_.view(-1)-y.view(-1))**2)+lambda_*torch.mean(z**2)\n",
        "    mse.backward()\n",
        "    with torch.no_grad():\n",
        "        z -= lr*z.grad\n",
        "        z.grad.zero_()\n",
        "    mse_tot.append(mse.item())\n",
        "    psnr = 20*np.log10(1/np.sqrt(mse.item()))\n",
        "    psnr_randn.append(psnr)\n",
        "\n",
        "print(\"psnr pour initialisations zero est : \",np.mean(psnr_randn))  \n",
        "plt.plot(mse_tot)"
      ]
    },
    {
      "cell_type": "code",
      "execution_count": 57,
      "metadata": {
        "id": "i4nb_V8Es1t2",
        "colab": {
          "base_uri": "https://localhost:8080/",
          "height": 357
        },
        "outputId": "99201f89-6e81-4604-d7de-602bb15e6e16"
      },
      "outputs": [
        {
          "output_type": "display_data",
          "data": {
            "text/plain": [
              "<Figure size 1152x432 with 24 Axes>"
            ],
            "image/png": "[encoded data removed]"
          },
          "metadata": {
            "needs_background": "light"
          }
        }
      ],
      "source": [
        "# Display results\n",
        "xhat = model.decode(z).view(batch_size,28,28).cpu().detach().numpy()\n",
        "xv = x.view(batch_size,28,28).cpu().numpy()\n",
        "yv = y.view(batch_size,28,28).cpu().numpy()\n",
        "img = np.concatenate((xv,yv,xhat))\n",
        "plot_img(img,batch_size)"
      ]
    },
    {
      "cell_type": "markdown",
      "metadata": {
        "id": "rCRP03M8s1t3"
      },
      "source": [
        "We can see that most of the time, the denoising result is ok. But sometimes the algorithm outputs a wrong number. This is because the optimization problem is highly nonconvex! To overcome this, we will try two smarter initializations: one with a vector of zeros, and the other one by encoding the input noisy image.\n",
        "\n",
        "<font color='red'>Exercise:</font> \n",
        "- Implement and compare those two initializations\n",
        "- compute the average PSNR over the first minibatch or the entire test set, and compare the three methods\n",
        "- Change the parameters to improve the denoising (lr, lambda, stepsize in the gradient descent)"
      ]
    },
    {
      "cell_type": "code",
      "source": [
        "# random init\n",
        "z = torch.zeros(batch_size,latent_dim).to(device).requires_grad_()\n",
        "mse_tot = []\n",
        "psnr_zeros = []\n",
        "\n",
        "# Gradient descent      \n",
        "for e in range(iter):\n",
        "    x_ = model.decode(z)\n",
        "    mse = torch.mean((x_.view(-1)-y.view(-1))**2)+lambda_*torch.mean(z**2)\n",
        "    mse.backward()\n",
        "    with torch.no_grad():\n",
        "        z -= lr*z.grad\n",
        "        z.grad.zero_()\n",
        "    mse_tot.append(mse.item())\n",
        "    psnr = 20*np.log10(1/np.sqrt(mse.item()))\n",
        "    psnr_zeros.append(psnr)\n",
        "\n",
        "print(\"psnr pour initialisations zero est : \",np.mean(psnr_zeros))     \n",
        "plt.plot(mse_tot)"
      ],
      "metadata": {
        "colab": {
          "base_uri": "https://localhost:8080/",
          "height": 300
        },
        "id": "M4zAS23QSMBg",
        "outputId": "c99dd9df-6b7c-4510-c43f-0cb7f30df933"
      },
      "execution_count": 58,
      "outputs": [
        {
          "output_type": "stream",
          "name": "stdout",
          "text": [
            "psnr pour initialisations zero est :  11.274182452415287\n"
          ]
        },
        {
          "output_type": "execute_result",
          "data": {
            "text/plain": [
              "[<matplotlib.lines.Line2D at 0x7ff9bc532880>]"
            ]
          },
          "metadata": {},
          "execution_count": 58
        },
        {
          "output_type": "display_data",
          "data": {
            "text/plain": [
              "<Figure size 432x288 with 1 Axes>"
            ],
            "image/png": "[encoded data removed]"
          },
          "metadata": {
            "needs_background": "light"
          }
        }
      ]
    },
    {
      "cell_type": "code",
      "source": [
        "# Initialization with encoded input image\n",
        "mu, logvar = model.encode(y)\n",
        "z = model.reparameterize(mu, logvar).detach().to(device).requires_grad_()\n",
        "mse_tot = []\n",
        "psnr_eval = []\n",
        "\n",
        "# Gradient descent\n",
        "for e in range(iter):\n",
        "    x_ = model.decode(z)\n",
        "    mse = torch.mean((x_.view(-1)-y.view(-1))**2)+lambda_*torch.mean(z**2)\n",
        "    mse.backward()\n",
        "    with torch.no_grad():\n",
        "      \n",
        "        z -= lr*z.grad\n",
        "        z.grad.zero_()\n",
        "    mse_tot.append(mse.item())\n",
        "    psnr = 20*np.log10(1/np.sqrt(mse.item()))\n",
        "    psnr_eval.append(psnr)\n",
        "\n",
        "print(\"psnr pour initialisations zero est : \",np.mean(psnr_eval))     \n",
        "plt.plot(mse_tot)"
      ],
      "metadata": {
        "colab": {
          "base_uri": "https://localhost:8080/",
          "height": 300
        },
        "id": "4YJl1ZAzTpFh",
        "outputId": "50aec6ca-eb3a-456c-8ed7-cf42fdc7f22d"
      },
      "execution_count": 59,
      "outputs": [
        {
          "output_type": "stream",
          "name": "stdout",
          "text": [
            "psnr pour initialisations zero est :  11.34892780578273\n"
          ]
        },
        {
          "output_type": "execute_result",
          "data": {
            "text/plain": [
              "[<matplotlib.lines.Line2D at 0x7ff9b7f3d880>]"
            ]
          },
          "metadata": {},
          "execution_count": 59
        },
        {
          "output_type": "display_data",
          "data": {
            "text/plain": [
              "<Figure size 432x288 with 1 Axes>"
            ],
            "image/png": "[encoded data removed]"
          },
          "metadata": {
            "needs_background": "light"
          }
        }
      ]
    },
    {
      "cell_type": "markdown",
      "source": [
        "On obtient les meilleurs résultats (faible MSE et haut PSNR) avec l'initialisation par encodage de l'image bruitée."
      ],
      "metadata": {
        "id": "1PPpij1DgKOZ"
      }
    },
    {
      "cell_type": "markdown",
      "metadata": {
        "id": "BirAfxuIs1t3"
      },
      "source": [
        "## 3. Application to another inverse problem\n",
        "\n",
        "<font color='red'>Exercise:</font> apply the above restoration method to an inverse problem. Chose the problem you want: inpainting, deblurring, super-resolution, etc."
      ]
    },
    {
      "cell_type": "code",
      "source": [
        "batch_size = 8\n",
        "latent_dim = 20\n",
        "test_loader = DataLoader(MNIST('./', train=False, transform=transforms.ToTensor()), batch_size=batch_size, shuffle=True)\n",
        "test_iter = test_loader.__iter__()\n",
        "X_batch, _ = next(test_iter)"
      ],
      "metadata": {
        "id": "_ILJNDlscDs3"
      },
      "execution_count": 107,
      "outputs": []
    },
    {
      "cell_type": "code",
      "source": [
        "import torch.nn.functional as F\n",
        "import torchvision\n",
        "\n",
        "iter = 200 # Number of iterations of the gradient descent\n",
        "lambda_ = 1e-4 # Lambda parameter for extra regularization\n",
        "lr = 1e2 # learning rate ()\n",
        "mse_tot = []\n",
        "\n",
        "# Get test data, add noise\n",
        "x = X_batch.to(device).view(batch_size, 28*28)\n",
        "#weight=np.torch()\n",
        "#y = F.conv2d(X_batch.view(batch_size, 28, 28), weight=torch.ones(1, 8, 3, 3, device=device)/9, padding=1)\n",
        "kernel_size = 51\n",
        "transform = torchvision.transforms.GaussianBlur((5,5), sigma=2)\n",
        "y = transform(X_batch).to(device)\n",
        "\n",
        "# random init\n",
        "z = torch.zeros(batch_size,latent_dim).to(device).requires_grad_()\n",
        "\n",
        "# Gradient descent      \n",
        "for e in range(iter):\n",
        "    x_ = model.decode(z)\n",
        "    mse = torch.mean((x_.view(-1)-y.view(batch_size*28*28))**2)+lambda_*torch.mean(z**2)\n",
        "    mse.backward()\n",
        "    with torch.no_grad():\n",
        "        z -= lr*z.grad\n",
        "        z.grad.zero_()\n",
        "    mse_tot.append(mse.item())\n",
        "    \n",
        "plt.plot(mse_tot)"
      ],
      "metadata": {
        "colab": {
          "base_uri": "https://localhost:8080/",
          "height": 282
        },
        "id": "NGfL4R-NcDwF",
        "outputId": "24ec7d88-1d82-4c82-95ca-3449aa7d625d"
      },
      "execution_count": 124,
      "outputs": [
        {
          "output_type": "execute_result",
          "data": {
            "text/plain": [
              "[<matplotlib.lines.Line2D at 0x7ff9bde3ea60>]"
            ]
          },
          "metadata": {},
          "execution_count": 124
        },
        {
          "output_type": "display_data",
          "data": {
            "text/plain": [
              "<Figure size 432x288 with 1 Axes>"
            ],
            "image/png": "[encoded data removed]"
          },
          "metadata": {
            "needs_background": "light"
          }
        }
      ]
    },
    {
      "cell_type": "code",
      "source": [
        "# Display results\n",
        "xhat = model.decode(z).view(batch_size,28,28).cpu().detach().numpy()\n",
        "xv = x.view(batch_size,28,28).cpu().numpy()\n",
        "yv = y.view(batch_size,28,28).cpu().numpy()\n",
        "img = np.concatenate((xv,yv,xhat))\n",
        "plot_img(img,batch_size)"
      ],
      "metadata": {
        "id": "HsqgFL3QokCs",
        "outputId": "e65893c9-6014-4d45-c2b9-f84ae4cb3be6",
        "colab": {
          "base_uri": "https://localhost:8080/",
          "height": 357
        }
      },
      "execution_count": 125,
      "outputs": [
        {
          "output_type": "display_data",
          "data": {
            "text/plain": [
              "<Figure size 1152x432 with 24 Axes>"
            ],
            "image/png": "[encoded data removed]"
          },
          "metadata": {
            "needs_background": "light"
          }
        }
      ]
    },
    {
      "cell_type": "markdown",
      "metadata": {
        "id": "Mint6l9ts1t5"
      },
      "source": [
        "## 4. Application to a more complex DNN and/or a more complex dataset\n",
        "<font color='red'>Exercise:</font> \n",
        "\n",
        "- Try to use a more complex VAE, for instance a convolutional VAE. Or alternatively, you can try to modify the dimension of the latent space, but be careful with posterior collapse!\n",
        "- (Bonus) Consider a more complex dataset such as Fashion MNIST, CIFAR, CelabA. To avoid the training step which can be long and sometimes tricky, you can/should use a pre-trained network. "
      ]
    },
    {
      "cell_type": "code",
      "execution_count": null,
      "metadata": {
        "id": "Wk1edqZe6xca"
      },
      "outputs": [],
      "source": [
        "# Your answer, or your results in a separate code\n"
      ]
    }
  ],
  "metadata": {
    "kernelspec": {
      "display_name": "Python 3",
      "language": "python",
      "name": "python3"
    },
    "language_info": {
      "codemirror_mode": {
        "name": "ipython",
        "version": 3
      },
      "file_extension": ".py",
      "mimetype": "text/x-python",
      "name": "python",
      "nbconvert_exporter": "python",
      "pygments_lexer": "ipython3",
      "version": "3.7.10"
    },
    "colab": {
      "provenance": [],
      "include_colab_link": true
    },
    "accelerator": "GPU"
  },
  "nbformat": 4,
  "nbformat_minor": 0
}