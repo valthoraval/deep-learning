{
  "nbformat": 4,
  "nbformat_minor": 0,
  "metadata": {
    "colab": {
      "provenance": []
    },
    "kernelspec": {
      "name": "python3",
      "display_name": "Python 3"
    }
  },
  "cells": [
    {
      "cell_type": "markdown",
      "metadata": {
        "id": "0XQ6NsIuDtgr"
      },
      "source": [
        "# Neural Self-Attention\n",
        "\n",
        "<a rel=\"license\" href=\"http://creativecommons.org/licenses/by-nc-sa/4.0/\"><img alt=\"Creative Commons License\" align=\"left\" src=\"https://i.creativecommons.org/l/by-nc-sa/4.0/80x15.png\" /></a>&nbsp;| Dennis G. Wilson<br> https://supaerodatascience.github.io/deep-learning/\n",
        "\n",
        "\n",
        "Based on [medium article](https://towardsdatascience.com/illustrated-self-attention-2d627e33b20a) by [Raimi Karim](https://towardsdatascience.com/@remykarem)\n",
        "\n",
        "Colab version by [Manuel Romero](https://twitter.com/mrm8488)\n",
        "\n",
        "Additional illustrations by [Jay Alammar](https://jalammar.github.io/illustrated-transformer/)"
      ]
    },
    {
      "cell_type": "markdown",
      "source": [
        "## Background\n",
        "\n",
        "Attention modules were first introduced in neural networks as a way to index the latent space of a recurrent network, although similar ideas were used in Neural Turing Machines to index an external memory. The idea in both is the same: a mask which specifies which part of a sequence to pay **attention** to. \n",
        "\n",
        "+ Alex Graves, Greg Wayne, and Ivo Danihelka. \"Neural turing machines.\" CoRR, abs/1410.5401, 2014. [pdf](https://arxiv.org/pdf/1410.5401.pdf)\n",
        "\n",
        "+ Bahdanau, Dzmitry, Kyung Hyun Cho, and Yoshua Bengio. \"Neural machine translation by jointly learning to align and translate.\" 3rd International Conference on Learning Representations, ICLR 2015. [pdf](https://arxiv.org/pdf/1409.0473.pdf)\n"
      ],
      "metadata": {
        "id": "4tYtjfCEKUhJ"
      }
    },
    {
      "cell_type": "markdown",
      "source": [
        "![Self-attention example](https://jalammar.github.io/images/t/transformer_self-attention_visualization.png)"
      ],
      "metadata": {
        "id": "nYace5LeMjTq"
      }
    },
    {
      "cell_type": "markdown",
      "source": [
        "While originally used as part of recurrent or convolutional networks, Transformer networks rely entirely on attention modules to analyze sequences. Specifically, they use self-attention, where an entire sequence is presented for analysis. A self-attention module takes in n inputs, and returns n outputs. What happens in this module? Put simply, the self-attention mechanism allows the inputs to interact with each other (“self”) and find out who they should pay more attention to (“attention”). The outputs are aggregates of these interactions and attention scores.\n",
        "\n",
        "+ Vaswani, Ashish, et al. \"Attention is all you need.\" Advances in Neural Information Processing Systems 30, 2017. [pdf](https://proceedings.neurips.cc/paper/2017/file/3f5ee243547dee91fbd053c1c4a845aa-Paper.pdf)"
      ],
      "metadata": {
        "id": "0ObDFoE2KUnj"
      }
    },
    {
      "cell_type": "markdown",
      "source": [
        "A self-attention head has three weight matrices (represented as fully-connected NN layers) which compute a **query**, **key**, and **value** per input. The key and values can be though of as a dictionary the network has learned - for each key, it will save associations with the list of possible vaues. In a language model, this is often associated words, either based on order or context. The query is similar to the key, but it is for one input at a time, while the key is calculated over all inputs. The query will be used to calculate a score based on each key to find keys which have similar values. The score then weights the value vectors to output relevant values corresponding to each input."
      ],
      "metadata": {
        "id": "PmelXHYHNK0t"
      }
    },
    {
      "cell_type": "markdown",
      "source": [
        "![Query, key and value](https://jalammar.github.io/images/t/transformer_self_attention_vectors.png)"
      ],
      "metadata": {
        "id": "ZqaZmsgNOiyX"
      }
    },
    {
      "cell_type": "markdown",
      "source": [
        "The following animation illustrates the whole process of the self-attention head. A sequence of input tokens are used to compute keys and values, which are then compared with each query, calculated per input. For each query, the scores of all keys are calculated and then used to weight the sum of values, resulting in an output value vector per input."
      ],
      "metadata": {
        "id": "VAs7EotAO7Xh"
      }
    },
    {
      "cell_type": "markdown",
      "metadata": {
        "id": "U76qWlrbOmx7"
      },
      "source": [
        "![texto alternativo](https://miro.medium.com/max/1973/1*_92bnsMJy8Bl539G4v93yg.gif)"
      ]
    },
    {
      "cell_type": "markdown",
      "metadata": {
        "id": "SDMmHAaSTE6P"
      },
      "source": [
        "Following, we are going to explain and implement:\n",
        "1. Prepare inputs\n",
        "2. Initialise weights\n",
        "3. Derive key, query and value\n",
        "4. Calculate attention scores for Input 1\n",
        "5. Calculate softmax\n",
        "6. Multiply scores with values\n",
        "7. Sum weighted values to get Output 1\n",
        "8. Repeat steps 4–7 for Input 2 & Input 3"
      ]
    },
    {
      "cell_type": "code",
      "metadata": {
        "id": "u1UxPJlHBVmS"
      },
      "source": [
        "import torch"
      ],
      "execution_count": 1,
      "outputs": []
    },
    {
      "cell_type": "markdown",
      "metadata": {
        "id": "ENdzUZqSBsiB"
      },
      "source": [
        "### Step 1: Prepare inputs\n",
        "\n",
        "In text-based models, an encoding matrix is used to turn tokens into a specific encoding, often floating-point based with high dimensionality (768 for example.) For this tutorial, for the sake of simplicity, we use 3 inputs, each with dimension 4, with an integer encoding.\n",
        "\n",
        "![texto alternativo](https://miro.medium.com/max/1973/1*hmvdDXrxhJsGhOQClQdkBA.png)\n"
      ]
    },
    {
      "cell_type": "code",
      "metadata": {
        "id": "jKYrJsljBhnv",
        "outputId": "d1e79a5a-f02f-4817-e537-e454f5fc3df4",
        "colab": {
          "base_uri": "https://localhost:8080/"
        }
      },
      "source": [
        "x = [\n",
        "  [1, 0, 1, 0], # Input 1\n",
        "  [0, 2, 0, 2], # Input 2\n",
        "  [1, 1, 1, 1]  # Input 3\n",
        " ]\n",
        "x = torch.tensor(x, dtype=torch.float32)\n",
        "x"
      ],
      "execution_count": 2,
      "outputs": [
        {
          "output_type": "execute_result",
          "data": {
            "text/plain": [
              "tensor([[1., 0., 1., 0.],\n",
              "        [0., 2., 0., 2.],\n",
              "        [1., 1., 1., 1.]])"
            ]
          },
          "metadata": {},
          "execution_count": 2
        }
      ]
    },
    {
      "cell_type": "markdown",
      "metadata": {
        "id": "DZ96EoE1Bvat"
      },
      "source": [
        "### Step 2: Initialise weights\n",
        "\n",
        "Every input must have three representations (see diagram below). These representations are called **key** (orange), **query** (red), and **value** (purple). For this example, let’s take that we want these representations to have a dimension of 3. Because every input has a dimension of 4, this means each set of the weights must have a shape of 4×3.\n",
        "\n",
        "![texto del enlace](https://miro.medium.com/max/1975/1*VPvXYMGjv0kRuoYqgFvCag.gif)"
      ]
    },
    {
      "cell_type": "code",
      "metadata": {
        "id": "jUTNr15JBkSG",
        "outputId": "858b286f-f5e3-4a4a-d14a-a0ed01e31612",
        "colab": {
          "base_uri": "https://localhost:8080/"
        }
      },
      "source": [
        "w_key = [\n",
        "  [0, 0, 1],\n",
        "  [1, 1, 0],\n",
        "  [0, 1, 0],\n",
        "  [1, 1, 0]\n",
        "]\n",
        "w_query = [\n",
        "  [1, 0, 1],\n",
        "  [1, 0, 0],\n",
        "  [0, 0, 1],\n",
        "  [0, 1, 1]\n",
        "]\n",
        "w_value = [\n",
        "  [0, 2, 0],\n",
        "  [0, 3, 0],\n",
        "  [1, 0, 3],\n",
        "  [1, 1, 0]\n",
        "]\n",
        "w_key = torch.tensor(w_key, dtype=torch.float32)\n",
        "w_query = torch.tensor(w_query, dtype=torch.float32)\n",
        "w_value = torch.tensor(w_value, dtype=torch.float32)\n",
        "\n",
        "print(\"Weights for key: \\n\", w_key)\n",
        "print(\"Weights for query: \\n\", w_query)\n",
        "print(\"Weights for value: \\n\", w_value)"
      ],
      "execution_count": 4,
      "outputs": [
        {
          "output_type": "stream",
          "name": "stdout",
          "text": [
            "Weights for key: \n",
            " tensor([[0., 0., 1.],\n",
            "        [1., 1., 0.],\n",
            "        [0., 1., 0.],\n",
            "        [1., 1., 0.]])\n",
            "Weights for query: \n",
            " tensor([[1., 0., 1.],\n",
            "        [1., 0., 0.],\n",
            "        [0., 0., 1.],\n",
            "        [0., 1., 1.]])\n",
            "Weights for value: \n",
            " tensor([[0., 2., 0.],\n",
            "        [0., 3., 0.],\n",
            "        [1., 0., 3.],\n",
            "        [1., 1., 0.]])\n"
          ]
        }
      ]
    },
    {
      "cell_type": "markdown",
      "metadata": {
        "id": "8pr9XZF9X_Ed"
      },
      "source": [
        "Note: *In a neural network setting, these weights are usually small numbers, initialised randomly using an appropriate random distribution like Gaussian, Xavier and Kaiming distributions.*"
      ]
    },
    {
      "cell_type": "markdown",
      "metadata": {
        "id": "UxGT5awVB1Xw"
      },
      "source": [
        "### Step 3: Derive key, query and value\n",
        "\n",
        "Now that we have the three sets of weights, let’s actually obtain the **key**, **query** and **value** representations for every input."
      ]
    },
    {
      "cell_type": "markdown",
      "metadata": {
        "id": "VQwhDIi7aGXp"
      },
      "source": [
        "Obtaining the keys:\n",
        "```\n",
        "               [0, 0, 1]\n",
        "[1, 0, 1, 0]   [1, 1, 0]   [0, 1, 1]\n",
        "[0, 2, 0, 2] x [0, 1, 0] = [4, 4, 0]\n",
        "[1, 1, 1, 1]   [1, 1, 0]   [2, 3, 1]\n",
        "```\n",
        "![texto alternativo](https://miro.medium.com/max/1975/1*dr6NIaTfTxEWzxB2rc0JWg.gif)"
      ]
    },
    {
      "cell_type": "markdown",
      "metadata": {
        "id": "Qi0EblXTamFz"
      },
      "source": [
        "Obtaining the values:\n",
        "```\n",
        "               [0, 2, 0]\n",
        "[1, 0, 1, 0]   [0, 3, 0]   [1, 2, 3] \n",
        "[0, 2, 0, 2] x [1, 0, 3] = [2, 8, 0]\n",
        "[1, 1, 1, 1]   [1, 1, 0]   [2, 6, 3]\n",
        "```\n",
        "![texto alternativo](https://miro.medium.com/max/1975/1*5kqW7yEwvcC0tjDOW3Ia-A.gif)\n"
      ]
    },
    {
      "cell_type": "markdown",
      "metadata": {
        "id": "GTp2izu1bLNq"
      },
      "source": [
        "Obtaining the querys:\n",
        "```\n",
        "               [1, 0, 1]\n",
        "[1, 0, 1, 0]   [1, 0, 0]   [1, 0, 2]\n",
        "[0, 2, 0, 2] x [0, 0, 1] = [2, 2, 2]\n",
        "[1, 1, 1, 1]   [0, 1, 1]   [2, 1, 3]\n",
        "```\n",
        "![texto alternativo](https://miro.medium.com/max/1975/1*wO_UqfkWkv3WmGQVHvrMJw.gif)"
      ]
    },
    {
      "cell_type": "markdown",
      "metadata": {
        "id": "qegb9M0KbnRK"
      },
      "source": [
        "Notes: *Notes\n",
        "In practice, a bias vector may be added to the product of matrix multiplication.*"
      ]
    },
    {
      "cell_type": "code",
      "metadata": {
        "id": "rv2NXynOB7oG",
        "outputId": "c250293e-6586-4415-915f-76f7c41a4f55",
        "colab": {
          "base_uri": "https://localhost:8080/"
        }
      },
      "source": [
        "keys = torch.matmul(x, w_key)\n",
        "querys = torch.matmul(x, w_query)\n",
        "values = torch.matmul(x, w_value)\n",
        "# on peut aussi utiliser '@' à la place de torch.matmul\n",
        "\n",
        "print(\"Keys: \\n\", keys)\n",
        "# tensor([[0., 1., 1.],\n",
        "#         [4., 4., 0.],\n",
        "#         [2., 3., 1.]])\n",
        "\n",
        "print(\"Querys: \\n\", querys)\n",
        "# tensor([[1., 0., 2.],\n",
        "#         [2., 2., 2.],\n",
        "#         [2., 1., 3.]])\n",
        "print(\"Values: \\n\", values)\n",
        "# tensor([[1., 2., 3.],\n",
        "#         [2., 8., 0.],\n",
        "#         [2., 6., 3.]])"
      ],
      "execution_count": 6,
      "outputs": [
        {
          "output_type": "stream",
          "name": "stdout",
          "text": [
            "Keys: \n",
            " tensor([[0., 1., 1.],\n",
            "        [4., 4., 0.],\n",
            "        [2., 3., 1.]])\n",
            "Querys: \n",
            " tensor([[1., 0., 2.],\n",
            "        [2., 2., 2.],\n",
            "        [2., 1., 3.]])\n",
            "Values: \n",
            " tensor([[1., 2., 3.],\n",
            "        [2., 8., 0.],\n",
            "        [2., 6., 3.]])\n"
          ]
        }
      ]
    },
    {
      "cell_type": "markdown",
      "metadata": {
        "id": "3pmf0OQhCnD8"
      },
      "source": [
        "### Step 4: Calculate attention scores\n",
        "![texto alternativo](https://miro.medium.com/max/1973/1*u27nhUppoWYIGkRDmYFN2A.gif)\n",
        "\n",
        "To obtain **attention scores**, we start off with taking a dot product between Input 1’s **query** (red) with **all keys** (orange), including itself. Since there are 3 key representations (because we have 3 inputs), we obtain 3 attention scores (blue).\n",
        "\n",
        "```\n",
        "            [0, 4, 2]\n",
        "[1, 0, 2] x [1, 4, 3] = [2, 4, 4]\n",
        "            [1, 0, 1]\n",
        "```\n",
        "Notice that we only use the query from Input 1. Later we’ll work on repeating this same step for the other querys.\n",
        "\n",
        "Note: *The above operation is known as dot product attention, one of the several score functions. Other score functions include scaled dot product and additive/concat.*            "
      ]
    },
    {
      "cell_type": "code",
      "metadata": {
        "id": "6GDhKEl0Cokw",
        "outputId": "31fc9856-6e51-497f-e71a-9b2307b53172",
        "colab": {
          "base_uri": "https://localhost:8080/"
        }
      },
      "source": [
        "attn_scores = torch.matmul(querys, keys.T)\n",
        "print(attn_scores)\n",
        "\n",
        "# tensor([[ 2.,  4.,  4.],  # attention scores from Query 1\n",
        "#         [ 4., 16., 12.],  # attention scores from Query 2\n",
        "#         [ 4., 12., 10.]]) # attention scores from Query 3"
      ],
      "execution_count": 7,
      "outputs": [
        {
          "output_type": "stream",
          "name": "stdout",
          "text": [
            "tensor([[ 2.,  4.,  4.],\n",
            "        [ 4., 16., 12.],\n",
            "        [ 4., 12., 10.]])\n"
          ]
        }
      ]
    },
    {
      "cell_type": "markdown",
      "metadata": {
        "id": "bO3NmnbvCxpX"
      },
      "source": [
        "### Step 5: Calculate softmax\n",
        "![texto alternativo](https://miro.medium.com/max/1973/1*jf__2D8RNCzefwS0TP1Kyg.gif)\n",
        "\n",
        "Take the **softmax** across these **attention scores** (blue).\n",
        "```\n",
        "softmax([2, 4, 4]) = [0.0, 0.5, 0.5]\n",
        "```"
      ]
    },
    {
      "cell_type": "markdown",
      "source": [
        "A la place de faire xi/sum(xj), on fait exp(xi)/sum(exp(xj))"
      ],
      "metadata": {
        "id": "ailXDIdpxPGz"
      }
    },
    {
      "cell_type": "code",
      "metadata": {
        "id": "PDNzdZHVC1ys",
        "outputId": "c384503f-a76b-40af-ee46-66910432e200",
        "colab": {
          "base_uri": "https://localhost:8080/"
        }
      },
      "source": [
        "from torch.nn.functional import softmax\n",
        "\n",
        "attn_scores_softmax = softmax(attn_scores, dim=-1)\n",
        "print(attn_scores_softmax)\n",
        "# tensor([[6.3379e-02, 4.6831e-01, 4.6831e-01],\n",
        "#         [6.0337e-06, 9.8201e-01, 1.7986e-02],\n",
        "#         [2.9539e-04, 8.8054e-01, 1.1917e-01]])\n",
        "\n",
        "# For readability, approximate the above as follows\n",
        "attn_scores_softmax = [\n",
        "  [0.0, 0.5, 0.5],\n",
        "  [0.0, 1.0, 0.0],\n",
        "  [0.0, 0.9, 0.1]\n",
        "]\n",
        "attn_scores_softmax = torch.tensor(attn_scores_softmax)\n",
        "print(attn_scores_softmax)"
      ],
      "execution_count": 8,
      "outputs": [
        {
          "output_type": "stream",
          "name": "stdout",
          "text": [
            "tensor([[6.3379e-02, 4.6831e-01, 4.6831e-01],\n",
            "        [6.0337e-06, 9.8201e-01, 1.7986e-02],\n",
            "        [2.9539e-04, 8.8054e-01, 1.1917e-01]])\n",
            "tensor([[0.0000, 0.5000, 0.5000],\n",
            "        [0.0000, 1.0000, 0.0000],\n",
            "        [0.0000, 0.9000, 0.1000]])\n"
          ]
        }
      ]
    },
    {
      "cell_type": "markdown",
      "metadata": {
        "id": "iBe71nseDBhb"
      },
      "source": [
        "### Step 6: Multiply scores with values\n",
        "![texto alternativo](https://miro.medium.com/max/1973/1*9cTaJGgXPbiJ4AOCc6QHyA.gif)\n",
        "\n",
        "The softmaxed attention scores for each input (blue) is multiplied with its corresponding **value** (purple). This results in 3 alignment vectors (yellow). In this tutorial, we’ll refer to them as **weighted values**.\n",
        "```\n",
        "1: 0.0 * [1, 2, 3] = [0.0, 0.0, 0.0]\n",
        "2: 0.5 * [2, 8, 0] = [1.0, 4.0, 0.0]\n",
        "3: 0.5 * [2, 6, 3] = [1.0, 3.0, 1.5]\n",
        "``` "
      ]
    },
    {
      "cell_type": "code",
      "metadata": {
        "id": "tNnx-Fx5DFDi",
        "outputId": "c4f22041-a6d9-434e-8064-8118e619449b",
        "colab": {
          "base_uri": "https://localhost:8080/"
        }
      },
      "source": [
        "weighted_values = values[:,None] * attn_scores_softmax.T[:,:,None]\n",
        "print(weighted_values)"
      ],
      "execution_count": 9,
      "outputs": [
        {
          "output_type": "stream",
          "name": "stdout",
          "text": [
            "tensor([[[0.0000, 0.0000, 0.0000],\n",
            "         [0.0000, 0.0000, 0.0000],\n",
            "         [0.0000, 0.0000, 0.0000]],\n",
            "\n",
            "        [[1.0000, 4.0000, 0.0000],\n",
            "         [2.0000, 8.0000, 0.0000],\n",
            "         [1.8000, 7.2000, 0.0000]],\n",
            "\n",
            "        [[1.0000, 3.0000, 1.5000],\n",
            "         [0.0000, 0.0000, 0.0000],\n",
            "         [0.2000, 0.6000, 0.3000]]])\n"
          ]
        }
      ]
    },
    {
      "cell_type": "markdown",
      "metadata": {
        "id": "gU6w0U9ADQIc"
      },
      "source": [
        "### Step 7: Sum weighted values\n",
        "![texto alternativo](https://miro.medium.com/max/1973/1*1je5TwhVAwwnIeDFvww3ew.gif)\n",
        "\n",
        "Take all the **weighted values** (yellow) and sum them element-wise:\n",
        "\n",
        "```\n",
        "  [0.0, 0.0, 0.0]\n",
        "+ [1.0, 4.0, 0.0]\n",
        "+ [1.0, 3.0, 1.5]\n",
        "-----------------\n",
        "= [2.0, 7.0, 1.5]\n",
        "```\n",
        "\n",
        "The resulting vector ```[2.0, 7.0, 1.5]``` (dark green) **is Output 1**, which is based on the **query representation from Input 1** interacting with all other keys, including itself.\n"
      ]
    },
    {
      "cell_type": "markdown",
      "metadata": {
        "id": "P3yNYDUEgAos"
      },
      "source": [
        "### Step 8: Repeat for Input 2 & Input 3\n",
        "![texto alternativo](https://miro.medium.com/max/1973/1*G8thyDVqeD8WHim_QzjvFg.gif)\n",
        "\n",
        "Note: *The dimension of **query** and **key** must always be the same because of the dot product score function. However, the dimension of **value** may be different from **query** and **key**. The resulting output will consequently follow the dimension of **value**.*"
      ]
    },
    {
      "cell_type": "code",
      "metadata": {
        "id": "R6excNSUDRRj",
        "outputId": "c8ff18de-6784-4f0c-d974-2f861e14a86a",
        "colab": {
          "base_uri": "https://localhost:8080/"
        }
      },
      "source": [
        "outputs = weighted_values.sum(dim=0)\n",
        "print(outputs)\n",
        "\n",
        "# tensor([[2.0000, 7.0000, 1.5000],  # Output 1\n",
        "#         [2.0000, 8.0000, 0.0000],  # Output 2\n",
        "#         [2.0000, 7.8000, 0.3000]]) # Output 3"
      ],
      "execution_count": 10,
      "outputs": [
        {
          "output_type": "stream",
          "name": "stdout",
          "text": [
            "tensor([[2.0000, 7.0000, 1.5000],\n",
            "        [2.0000, 8.0000, 0.0000],\n",
            "        [2.0000, 7.8000, 0.3000]])\n"
          ]
        }
      ]
    },
    {
      "cell_type": "markdown",
      "source": [
        "The following image summarizes the different steps. One step used in practice is to normalize the score, before the softmax, by the square root of the dimension of the key vectors. This is done only to stabilize gradients, as it leads to less drastic differences in the softmax."
      ],
      "metadata": {
        "id": "K4tyrwqqY73n"
      }
    },
    {
      "cell_type": "markdown",
      "source": [
        "![Self-attention steps](https://jalammar.github.io/images/t/self-attention-output.png)"
      ],
      "metadata": {
        "id": "LB9XD-eGY2gr"
      }
    },
    {
      "cell_type": "markdown",
      "source": [
        "## Exercise 1\n",
        "\n",
        "Implement a division by the square root of the key vector dimensionality. How does this change the softmax values?"
      ],
      "metadata": {
        "id": "4MXKpEpVaCNG"
      }
    },
    {
      "cell_type": "code",
      "source": [
        "print(attn_scores)"
      ],
      "metadata": {
        "id": "w_zweJkb72Cm",
        "outputId": "38ee7c83-263e-4855-8c04-4e32d187c5ef",
        "colab": {
          "base_uri": "https://localhost:8080/"
        }
      },
      "execution_count": 12,
      "outputs": [
        {
          "output_type": "stream",
          "name": "stdout",
          "text": [
            "tensor([[ 2.,  4.,  4.],\n",
            "        [ 4., 16., 12.],\n",
            "        [ 4., 12., 10.]])\n"
          ]
        }
      ]
    },
    {
      "cell_type": "code",
      "source": [
        "import math\n",
        "\n",
        "attn_scores/math.sqrt(3)"
      ],
      "metadata": {
        "id": "W0jExj257-Zd",
        "outputId": "901eb221-d35d-4c9e-9600-2fc9104b9272",
        "colab": {
          "base_uri": "https://localhost:8080/"
        }
      },
      "execution_count": 14,
      "outputs": [
        {
          "output_type": "execute_result",
          "data": {
            "text/plain": [
              "tensor([[1.1547, 2.3094, 2.3094],\n",
              "        [2.3094, 9.2376, 6.9282],\n",
              "        [2.3094, 6.9282, 5.7735]])"
            ]
          },
          "metadata": {},
          "execution_count": 14
        }
      ]
    },
    {
      "cell_type": "code",
      "source": [
        "attn_scores_softmax_d = softmax(attn_scores/math.sqrt(3), dim=-1)\n",
        "print('Attention score with div by sqrt(3)',attn_scores_softmax_d)\n",
        "\n",
        "weighted_values_d = values[:,None] * attn_scores_softmax_d.T[:,:,None]\n",
        "print('Weighted values',weighted_values_d)\n",
        "\n",
        "outputs_d = weighted_values_d.sum(dim=0)\n",
        "print('Outputs', outputs_d)"
      ],
      "metadata": {
        "id": "1mao6qkk7gzI",
        "outputId": "cd195f22-3c4f-4009-bb30-d7a2be9e2782",
        "colab": {
          "base_uri": "https://localhost:8080/"
        }
      },
      "execution_count": 17,
      "outputs": [
        {
          "output_type": "stream",
          "name": "stdout",
          "text": [
            "Attention score with div by sqrt(3) tensor([[1.3613e-01, 4.3194e-01, 4.3194e-01],\n",
            "        [8.9045e-04, 9.0884e-01, 9.0267e-02],\n",
            "        [7.4449e-03, 7.5471e-01, 2.3785e-01]])\n",
            "Weighted values tensor([[[1.3613e-01, 2.7225e-01, 4.0838e-01],\n",
            "         [8.9045e-04, 1.7809e-03, 2.6713e-03],\n",
            "         [7.4449e-03, 1.4890e-02, 2.2335e-02]],\n",
            "\n",
            "        [[8.6387e-01, 3.4555e+00, 0.0000e+00],\n",
            "         [1.8177e+00, 7.2707e+00, 0.0000e+00],\n",
            "         [1.5094e+00, 6.0377e+00, 0.0000e+00]],\n",
            "\n",
            "        [[8.6387e-01, 2.5916e+00, 1.2958e+00],\n",
            "         [1.8053e-01, 5.4160e-01, 2.7080e-01],\n",
            "         [4.7570e-01, 1.4271e+00, 7.1354e-01]]])\n",
            "Outputs tensor([[1.8639, 6.3194, 1.7042],\n",
            "        [1.9991, 7.8141, 0.2735],\n",
            "        [1.9926, 7.4796, 0.7359]])\n"
          ]
        }
      ]
    },
    {
      "cell_type": "code",
      "source": [
        "softmax(attn_scores, dim=-1)"
      ],
      "metadata": {
        "id": "ZqqE46Ua95pT",
        "outputId": "7b8c7bc5-59a3-44a3-c8cc-f9694b113768",
        "colab": {
          "base_uri": "https://localhost:8080/"
        }
      },
      "execution_count": 19,
      "outputs": [
        {
          "output_type": "execute_result",
          "data": {
            "text/plain": [
              "tensor([[6.3379e-02, 4.6831e-01, 4.6831e-01],\n",
              "        [6.0337e-06, 9.8201e-01, 1.7986e-02],\n",
              "        [2.9539e-04, 8.8054e-01, 1.1917e-01]])"
            ]
          },
          "metadata": {},
          "execution_count": 19
        }
      ]
    },
    {
      "cell_type": "markdown",
      "source": [
        "## Exercise 2\n",
        "\n",
        "Make the first and the third input vectors identical. Why are the first and third output values different even though the inputs are identical?"
      ],
      "metadata": {
        "id": "vJVY7YYgaO3T"
      }
    },
    {
      "cell_type": "code",
      "source": [
        "x = [\n",
        "  [1, 0, 1, 0], # Input 1\n",
        "  [0, 2, 0, 2], # Input 2\n",
        "  [1, 0, 1, 0]  # Input 3\n",
        " ]\n",
        "x = torch.tensor(x, dtype=torch.float32)\n",
        "print(x)\n",
        "p = [\n",
        "    [0, 0, 0, 0],\n",
        "     [0.1, 0.1, 0.1, 0.1],\n",
        "     [0.2, 0.2, 0.2, 0.2]\n",
        "]\n",
        "p = torch.tensor(p, dtype=torch.float32)\n",
        "x = x+p\n",
        "print(x)\n",
        "\n",
        "w_key = torch.tensor(w_key, dtype=torch.float32)\n",
        "w_query = torch.tensor(w_query, dtype=torch.float32)\n",
        "w_value = torch.tensor(w_value, dtype=torch.float32)\n",
        "\n",
        "keys = torch.matmul(x, w_key)\n",
        "querys = torch.matmul(x, w_query)\n",
        "values = torch.matmul(x, w_value)\n",
        "\n",
        "attn_scores = torch.matmul(querys, keys.T)\n",
        "print(attn_scores)\n",
        "\n",
        "attn_scores_softmax = softmax(attn_scores, dim=-1)\n",
        "print('Attention score with div by sqrt(3)',attn_scores_softmax)\n",
        "\n",
        "weighted_values = values[:,None] * attn_scores_softmax.T[:,:,None]\n",
        "print('Weighted values',weighted_values)\n",
        "\n",
        "outputs = weighted_values.sum(dim=0)\n",
        "print('Outputs', outputs)"
      ],
      "metadata": {
        "id": "wgUqy8du9F-7",
        "outputId": "04ac5917-fcfc-4479-8a99-91d6b49d5f8d",
        "colab": {
          "base_uri": "https://localhost:8080/"
        }
      },
      "execution_count": 28,
      "outputs": [
        {
          "output_type": "stream",
          "name": "stdout",
          "text": [
            "tensor([[1., 0., 1., 0.],\n",
            "        [0., 2., 0., 2.],\n",
            "        [1., 0., 1., 0.]])\n",
            "tensor([[1.0000, 0.0000, 1.0000, 0.0000],\n",
            "        [0.1000, 2.1000, 0.1000, 2.1000],\n",
            "        [1.2000, 0.2000, 1.2000, 0.2000]])\n",
            "tensor([[ 2.0000,  4.4000,  2.8000],\n",
            "        [ 4.4000, 18.5000,  7.0000],\n",
            "        [ 2.8000,  7.0000,  4.0000]])\n",
            "Attention score with div by sqrt(3) tensor([[7.0182e-02, 7.7363e-01, 1.5619e-01],\n",
            "        [7.5239e-07, 9.9999e-01, 1.0130e-05],\n",
            "        [1.4083e-02, 9.3916e-01, 4.6758e-02]])\n",
            "Weighted values tensor([[[7.0182e-02, 1.4036e-01, 2.1055e-01],\n",
            "         [7.5239e-07, 1.5048e-06, 2.2572e-06],\n",
            "         [1.4083e-02, 2.8166e-02, 4.2250e-02]],\n",
            "\n",
            "        [[1.7020e+00, 6.6532e+00, 2.3209e-01],\n",
            "         [2.2000e+00, 8.5999e+00, 3.0000e-01],\n",
            "         [2.0661e+00, 8.0768e+00, 2.8175e-01]],\n",
            "\n",
            "        [[2.1867e-01, 4.9982e-01, 5.6229e-01],\n",
            "         [1.4182e-05, 3.2416e-05, 3.6468e-05],\n",
            "         [6.5461e-02, 1.4963e-01, 1.6833e-01]]])\n",
            "Outputs tensor([[1.9908, 7.2934, 1.0049],\n",
            "        [2.2000, 8.5999, 0.3000],\n",
            "        [2.1457, 8.2546, 0.4923]])\n"
          ]
        },
        {
          "output_type": "stream",
          "name": "stderr",
          "text": [
            "<ipython-input-28-03f1d99059c3>:17: UserWarning: To copy construct from a tensor, it is recommended to use sourceTensor.clone().detach() or sourceTensor.clone().detach().requires_grad_(True), rather than torch.tensor(sourceTensor).\n",
            "  w_key = torch.tensor(w_key, dtype=torch.float32)\n",
            "<ipython-input-28-03f1d99059c3>:18: UserWarning: To copy construct from a tensor, it is recommended to use sourceTensor.clone().detach() or sourceTensor.clone().detach().requires_grad_(True), rather than torch.tensor(sourceTensor).\n",
            "  w_query = torch.tensor(w_query, dtype=torch.float32)\n",
            "<ipython-input-28-03f1d99059c3>:19: UserWarning: To copy construct from a tensor, it is recommended to use sourceTensor.clone().detach() or sourceTensor.clone().detach().requires_grad_(True), rather than torch.tensor(sourceTensor).\n",
            "  w_value = torch.tensor(w_value, dtype=torch.float32)\n"
          ]
        }
      ]
    },
    {
      "cell_type": "markdown",
      "source": [
        "## Exercise 3\n",
        "\n",
        "Using identical vectors for the first and third inputs, change any of the weight vectors to try to get the first and third outputs to be as close as possible."
      ],
      "metadata": {
        "id": "R5g7N4ghbU5-"
      }
    },
    {
      "cell_type": "code",
      "source": [],
      "metadata": {
        "id": "VXB6Brje9NRl"
      },
      "execution_count": null,
      "outputs": []
    }
  ]
}